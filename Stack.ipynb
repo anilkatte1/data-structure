{
 "cells": [
  {
   "cell_type": "markdown",
   "metadata": {},
   "source": [
    "### stact implementation of with list"
   ]
  },
  {
   "cell_type": "code",
   "execution_count": 1,
   "metadata": {},
   "outputs": [
    {
     "name": "stdout",
     "output_type": "stream",
     "text": [
      "WELCOME TO STACT\n",
      "Name of operation (append, pop, isEmpty, Size):append\n",
      "type elementanil\n",
      "WELCOME TO STACT\n",
      "Name of operation (append, pop, isEmpty, Size):append\n",
      "type elementpradnya\n",
      "WELCOME TO STACT\n",
      "Name of operation (append, pop, isEmpty, Size):append\n",
      "type elementkajal\n",
      "WELCOME TO STACT\n",
      "Name of operation (append, pop, isEmpty, Size):append\n",
      "type elementom\n",
      "WELCOME TO STACT\n",
      "Name of operation (append, pop, isEmpty, Size):append\n",
      "type elementtrupti\n",
      "WELCOME TO STACT\n",
      "Name of operation (append, pop, isEmpty, Size):append\n",
      "stack overflow\n",
      "WELCOME TO STACT\n",
      "Name of operation (append, pop, isEmpty, Size):print\n",
      "this is you stack\n",
      "['anil', 'pradnya', 'kajal', 'om', 'trupti']\n",
      "WELCOME TO STACT\n",
      "Name of operation (append, pop, isEmpty, Size):append\n",
      "stack overflow\n",
      "WELCOME TO STACT\n",
      "Name of operation (append, pop, isEmpty, Size):neha\n"
     ]
    }
   ],
   "source": [
    "Stack = []\n",
    "max_size = 5\n",
    "while True:\n",
    "    print('WELCOME TO STACT')\n",
    "    operation = input('Name of operation (append, pop, isEmpty, Size):')\n",
    "    if operation == 'append':\n",
    "        if len(Stack) == max_size:\n",
    "            print('stack overflow')\n",
    "        else:\n",
    "            element = input('type element ')\n",
    "            Stack.append(element)\n",
    "    elif operation == 'pop':\n",
    "        if len(Stack) == 0:\n",
    "            print('stack is empty')\n",
    "        else:\n",
    "            print('this element is pop out :',Stack.pop())\n",
    "    elif operation == 'print':\n",
    "        print('this is you stack')\n",
    "        print(Stack)\n",
    "    \n",
    "    elif operation == 'isEmpty':\n",
    "        if len(Stack) == 0:\n",
    "            print('yes stack is empty')\n",
    "        else :\n",
    "            print('No,stack has {} elemet'.format(len(Stack)))\n",
    "    elif operation == 'size':\n",
    "        print('size of stack is {}'.format(len(Stack)))\n",
    "    else:\n",
    "        break"
   ]
  },
  {
   "cell_type": "markdown",
   "metadata": {},
   "source": [
    "### Implementation of stack by deque"
   ]
  },
  {
   "cell_type": "code",
   "execution_count": 21,
   "metadata": {},
   "outputs": [],
   "source": [
    "from collections import deque \n",
    "class dstack:\n",
    "    def __init__(self):\n",
    "        self.stack = deque()\n",
    "    def push(self,data):\n",
    "        self.stack.append(data)\n",
    "    def pop(self):\n",
    "        return self.stack.pop()\n",
    "    def top(self):\n",
    "        return self.stack[len(self.stack)-1]\n",
    "    def print_stact(self):\n",
    "        print(self.stack)\n",
    "    def no_empty(self):\n",
    "        return len(self.stack) "
   ]
  },
  {
   "cell_type": "code",
   "execution_count": 22,
   "metadata": {},
   "outputs": [],
   "source": [
    "dstk = dstack()"
   ]
  },
  {
   "cell_type": "code",
   "execution_count": 23,
   "metadata": {},
   "outputs": [],
   "source": [
    "dstk.push('anil')\n",
    "dstk.push('pradnya')\n",
    "dstk.push('kajal')"
   ]
  },
  {
   "cell_type": "code",
   "execution_count": 24,
   "metadata": {},
   "outputs": [
    {
     "name": "stdout",
     "output_type": "stream",
     "text": [
      "deque(['anil', 'pradnya', 'kajal'])\n"
     ]
    }
   ],
   "source": [
    "dstk.print_stact()"
   ]
  },
  {
   "cell_type": "code",
   "execution_count": 27,
   "metadata": {},
   "outputs": [
    {
     "data": {
      "text/plain": [
       "'kajal'"
      ]
     },
     "execution_count": 27,
     "metadata": {},
     "output_type": "execute_result"
    }
   ],
   "source": [
    "dstk.top()"
   ]
  },
  {
   "cell_type": "code",
   "execution_count": 28,
   "metadata": {},
   "outputs": [
    {
     "name": "stdout",
     "output_type": "stream",
     "text": [
      "deque(['anil', 'pradnya', 'kajal'])\n"
     ]
    }
   ],
   "source": [
    "dstk.print_stact()"
   ]
  },
  {
   "cell_type": "code",
   "execution_count": 34,
   "metadata": {},
   "outputs": [
    {
     "name": "stdout",
     "output_type": "stream",
     "text": [
      "stack is empty\n"
     ]
    }
   ],
   "source": [
    "if dstk.no_empty():\n",
    "    print('you popped element is -->',dstk.pop())\n",
    "else:\n",
    "    print('stack is empty')"
   ]
  },
  {
   "cell_type": "code",
   "execution_count": null,
   "metadata": {},
   "outputs": [],
   "source": [
    "# accept only 5 element\n",
    "from collections import deque\n",
    "stack = deque()\n",
    "max_size = 4\n",
    "while True:\n",
    "    choise = input('name of operation')\n",
    "    if choise == 'append':\n",
    "        if len(stack) == max_size:\n",
    "            print('stack is overflow')\n",
    "        else:\n",
    "            data = input('enter data value')\n",
    "            stack.append(data)\n",
    "    elif choise == 'pop':\n",
    "        if len(stack) == 0 :\n",
    "            print('stack is underflow')\n",
    "        else:\n",
    "            print('this is popped element',stack.pop())\n",
    "    elif choise == 'print':\n",
    "        print('this is you stack')\n",
    "        print(stack)\n",
    "    else:\n",
    "        break"
   ]
  },
  {
   "cell_type": "code",
   "execution_count": 4,
   "metadata": {},
   "outputs": [
    {
     "name": "stdout",
     "output_type": "stream",
     "text": [
      "['anil']\n"
     ]
    }
   ],
   "source": [
    "from collections import deque\n",
    "stack = []\n",
    "stack.insert(0,'anil')\n",
    "print(stack)"
   ]
  },
  {
   "cell_type": "code",
   "execution_count": 6,
   "metadata": {},
   "outputs": [],
   "source": [
    "stack.insert(0,'pradnya')"
   ]
  },
  {
   "cell_type": "code",
   "execution_count": 7,
   "metadata": {},
   "outputs": [
    {
     "name": "stdout",
     "output_type": "stream",
     "text": [
      "['pradnya', 'anil']\n"
     ]
    }
   ],
   "source": [
    "print(stack)"
   ]
  },
  {
   "cell_type": "code",
   "execution_count": null,
   "metadata": {},
   "outputs": [],
   "source": []
  },
  {
   "cell_type": "code",
   "execution_count": null,
   "metadata": {},
   "outputs": [],
   "source": []
  },
  {
   "cell_type": "code",
   "execution_count": 59,
   "metadata": {},
   "outputs": [],
   "source": [
    "# create class for stack\n",
    "class Stack:\n",
    "\n",
    "\t# create empty list\n",
    "\tdef __init__(self):\n",
    "\t\tself.Elements = []\n",
    "\t\t\n",
    "\t# push() for insert an element\n",
    "\tdef push(self, value):\n",
    "\t\tself.Elements.append(value)\n",
    "\t\n",
    "\t# pop() for remove an element\n",
    "\tdef pop(self):\n",
    "\t\treturn self.Elements.pop()\n",
    "\t\n",
    "\t# empty() check the stack is empty of not\n",
    "\tdef empty(self):\n",
    "\t\treturn self.Elements == []\n",
    "\t\n",
    "\tdef print(self):\n",
    "\t\tfor x in self.Elements:\n",
    "\t\t\tprint(x)\n",
    "\t\n",
    "\t# show() display stack\n",
    "\tdef show(self):\n",
    "\t\tfor value in reversed(self.Elements):\n",
    "\t\t\tprint(value)\n",
    "\n",
    "# # Insert_Bottom() insert value at bottom\n",
    "# def BottomInsert(s, value):\n",
    "\n",
    "# \t# check the stack is empty or not\n",
    "# \tif s.empty():\n",
    "\t\t\n",
    "# \t\t# if stack is empty then call\n",
    "# \t\t# push() method.\n",
    "# \t\ts.push(value)\n",
    "\t\t\n",
    "# \t# if stack is not empty then execute\n",
    "# \t# else block\n",
    "# \telse:\n",
    "# \t\tpopped = s.pop()\n",
    "# \t\tBottomInsert(s, value)\n",
    "# \t\ts.push(popped)\n",
    "\n",
    "# # Reverse() reverse the stack\n",
    "# def Reverse(s):\n",
    "# \tif s.empty():\n",
    "# \t\tpass\n",
    "# \telse:\n",
    "# \t\tpopped = s.pop()\n",
    "# \t\tReverse(s)\n",
    "# \t\tBottomInsert(s, popped)\n",
    "\n",
    "\n"
   ]
  },
  {
   "cell_type": "code",
   "execution_count": 63,
   "metadata": {},
   "outputs": [
    {
     "name": "stdout",
     "output_type": "stream",
     "text": [
      "Original Stack\n",
      "1\n",
      "2\n",
      "3\n",
      "4\n",
      "5\n",
      "\n",
      "Stack after Reversing\n",
      "5\n",
      "4\n",
      "3\n",
      "2\n",
      "1\n"
     ]
    }
   ],
   "source": [
    "\n",
    "# create object of stack class\n",
    "stk = Stack()\n",
    "\n",
    "stk.push(1)\n",
    "stk.push(2)\n",
    "stk.push(3)\n",
    "stk.push(4)\n",
    "stk.push(5)\n",
    "\n",
    "print(\"Original Stack\")\n",
    "stk.print()\n",
    "\n",
    "print(\"\\nStack after Reversing\")\n",
    "stk.show()"
   ]
  },
  {
   "cell_type": "code",
   "execution_count": 82,
   "metadata": {},
   "outputs": [],
   "source": [
    "# from collections import deque\n",
    "class stack:\n",
    "    def __init__(self):\n",
    "        self.element = []\n",
    "    def push(self,data):\n",
    "        self.element.append(data)\n",
    "    def pop(self):\n",
    "        self.element.pop()\n",
    "    def print(self):\n",
    "        print(self.element)\n",
    "    def print_reversed(self):\n",
    "        for x in (self.element):\n",
    "            print(reversed(x))\n",
    "    \n",
    "# from collections import deque \n",
    "# class dstack:\n",
    "#     def __init__(self):\n",
    "#         self.stack = deque()\n",
    "#     def push(self,data):\n",
    "#         self.stack.append(data)"
   ]
  },
  {
   "cell_type": "code",
   "execution_count": 83,
   "metadata": {},
   "outputs": [],
   "source": [
    "dstk =stack()"
   ]
  },
  {
   "cell_type": "code",
   "execution_count": 84,
   "metadata": {},
   "outputs": [],
   "source": [
    "dstk.push('anil')"
   ]
  },
  {
   "cell_type": "code",
   "execution_count": 85,
   "metadata": {},
   "outputs": [
    {
     "name": "stdout",
     "output_type": "stream",
     "text": [
      "['anil']\n"
     ]
    }
   ],
   "source": [
    "dstk.print()\n",
    "#because only one element is there"
   ]
  },
  {
   "cell_type": "code",
   "execution_count": 86,
   "metadata": {},
   "outputs": [
    {
     "name": "stdout",
     "output_type": "stream",
     "text": [
      "<reversed object at 0x0000022B93F75E80>\n"
     ]
    }
   ],
   "source": [
    "dstk.print_reversed()"
   ]
  },
  {
   "cell_type": "code",
   "execution_count": 81,
   "metadata": {},
   "outputs": [],
   "source": [
    "x = deque('anil')"
   ]
  },
  {
   "cell_type": "code",
   "execution_count": 73,
   "metadata": {},
   "outputs": [
    {
     "ename": "AttributeError",
     "evalue": "'collections.deque' object has no attribute 'rev'",
     "output_type": "error",
     "traceback": [
      "\u001b[1;31m---------------------------------------------------------------------------\u001b[0m",
      "\u001b[1;31mAttributeError\u001b[0m                            Traceback (most recent call last)",
      "\u001b[1;32m~\\AppData\\Local\\Temp\\ipykernel_18512\\460171115.py\u001b[0m in \u001b[0;36m<module>\u001b[1;34m\u001b[0m\n\u001b[1;32m----> 1\u001b[1;33m \u001b[0mx\u001b[0m\u001b[1;33m.\u001b[0m\u001b[0mrev\u001b[0m\u001b[1;33m(\u001b[0m\u001b[1;33m)\u001b[0m\u001b[1;33m\u001b[0m\u001b[1;33m\u001b[0m\u001b[0m\n\u001b[0m\u001b[0;32m      2\u001b[0m \u001b[0mprint\u001b[0m\u001b[1;33m(\u001b[0m\u001b[0mx\u001b[0m\u001b[1;33m)\u001b[0m\u001b[1;33m\u001b[0m\u001b[1;33m\u001b[0m\u001b[0m\n",
      "\u001b[1;31mAttributeError\u001b[0m: 'collections.deque' object has no attribute 'rev'"
     ]
    }
   ],
   "source": [
    "x.rev()\n",
    "print(x)"
   ]
  },
  {
   "cell_type": "code",
   "execution_count": 74,
   "metadata": {},
   "outputs": [
    {
     "name": "stdout",
     "output_type": "stream",
     "text": [
      "['anil']\n"
     ]
    }
   ],
   "source": [
    "x = ['anil']\n",
    "for i in reversed(x):\n",
    "    print(x)"
   ]
  },
  {
   "cell_type": "code",
   "execution_count": 75,
   "metadata": {},
   "outputs": [],
   "source": [
    "class stackk:\n",
    "    def __init__(self):\n",
    "        self.elem = []\n",
    "    def push(self,data):\n",
    "        self.elem.append(data)\n",
    "        \n",
    "    def print(self):\n",
    "        for x in self.elem:\n",
    "            print(x)\n",
    "    def print_revers(self):\n",
    "        for y in reversed(self.elem):\n",
    "            print(y)"
   ]
  },
  {
   "cell_type": "code",
   "execution_count": 66,
   "metadata": {},
   "outputs": [],
   "source": [
    "s = stackk()"
   ]
  },
  {
   "cell_type": "code",
   "execution_count": 67,
   "metadata": {},
   "outputs": [],
   "source": [
    "s.push(4)\n",
    "s.push(5)"
   ]
  },
  {
   "cell_type": "code",
   "execution_count": 68,
   "metadata": {},
   "outputs": [
    {
     "name": "stdout",
     "output_type": "stream",
     "text": [
      "4\n",
      "5\n"
     ]
    }
   ],
   "source": [
    "s.print()"
   ]
  },
  {
   "cell_type": "code",
   "execution_count": 69,
   "metadata": {},
   "outputs": [
    {
     "name": "stdout",
     "output_type": "stream",
     "text": [
      "5\n",
      "4\n"
     ]
    }
   ],
   "source": [
    "s.print_revers()"
   ]
  },
  {
   "cell_type": "code",
   "execution_count": null,
   "metadata": {},
   "outputs": [],
   "source": [
    "class Node:\n",
    "    def __init__(self, data):\n",
    "       self.data = data\n",
    "       self.next = None\n",
    " \n",
    "class Stack:\n",
    "    def __init__(self):\n",
    "        self.head = None\n",
    " \n",
    "    def push(self, data):\n",
    "        if self.head is None:\n",
    "            self.head = Node(data)\n",
    "        else:\n",
    "            new_node = Node(data)\n",
    "            new_node.next = self.head\n",
    "            self.head = new_node\n",
    " \n",
    "    def pop(self):\n",
    "        if self.head is None:\n",
    "            return None\n",
    "        else:\n",
    "            popped = self.head.data\n",
    "            self.head = self.head.next\n",
    "            return popped\n",
    " \n",
    "a_stack = Stack()\n",
    "while True:\n",
    "    print('push <value>')\n",
    "    print('pop')\n",
    "    print('quit')\n",
    "    do = input('What would you like to do? ').split()\n",
    " \n",
    "    operation = do[0].strip().lower()\n",
    "    if operation == 'push':\n",
    "        a_stack.push(int(do[1]))\n",
    "    elif operation == 'pop':\n",
    "        popped = a_stack.pop()\n",
    "        if popped is None:\n",
    "            print('Stack is empty.')\n",
    "        else:\n",
    "            print('Popped value: ', int(popped))\n",
    "    elif operation == 'quit':\n",
    "        break"
   ]
  }
 ],
 "metadata": {
  "kernelspec": {
   "display_name": "Python 3 (ipykernel)",
   "language": "python",
   "name": "python3"
  },
  "language_info": {
   "codemirror_mode": {
    "name": "ipython",
    "version": 3
   },
   "file_extension": ".py",
   "mimetype": "text/x-python",
   "name": "python",
   "nbconvert_exporter": "python",
   "pygments_lexer": "ipython3",
   "version": "3.9.13"
  },
  "vscode": {
   "interpreter": {
    "hash": "606f5dc41d7cf8d5a1554e3ce8b8173f297a1854a463ee4249fe1e80b1719191"
   }
  }
 },
 "nbformat": 4,
 "nbformat_minor": 2
}
