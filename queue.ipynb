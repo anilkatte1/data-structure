{
 "cells": [
  {
   "cell_type": "markdown",
   "metadata": {},
   "source": [
    "### implementing queue using list"
   ]
  },
  {
   "cell_type": "code",
   "execution_count": 1,
   "metadata": {},
   "outputs": [
    {
     "name": "stdout",
     "output_type": "stream",
     "text": [
      "select the operation 1.add 2.remove 3.print 4.quit\n",
      "5 this element is added in queue\n",
      "select the operation 1.add 2.remove 3.print 4.quit\n",
      "4 this element is added in queue\n",
      "select the operation 1.add 2.remove 3.print 4.quit\n",
      "3 this element is added in queue\n",
      "select the operation 1.add 2.remove 3.print 4.quit\n",
      "this is you current queue\n",
      "['5', '4', '3']\n",
      "select the operation 1.add 2.remove 3.print 4.quit\n"
     ]
    },
    {
     "ename": "ValueError",
     "evalue": "invalid literal for int() with base 10: ''",
     "output_type": "error",
     "traceback": [
      "\u001b[1;31m---------------------------------------------------------------------------\u001b[0m",
      "\u001b[1;31mValueError\u001b[0m                                Traceback (most recent call last)",
      "\u001b[1;32m~\\AppData\\Local\\Temp\\ipykernel_19576\\1522665977.py\u001b[0m in \u001b[0;36m<module>\u001b[1;34m\u001b[0m\n\u001b[0;32m     24\u001b[0m \u001b[1;32mwhile\u001b[0m \u001b[1;32mTrue\u001b[0m\u001b[1;33m:\u001b[0m\u001b[1;33m\u001b[0m\u001b[1;33m\u001b[0m\u001b[0m\n\u001b[0;32m     25\u001b[0m     \u001b[0mprint\u001b[0m\u001b[1;33m(\u001b[0m\u001b[1;34m\"select the operation 1.add 2.remove 3.print 4.quit\"\u001b[0m\u001b[1;33m)\u001b[0m\u001b[1;33m\u001b[0m\u001b[1;33m\u001b[0m\u001b[0m\n\u001b[1;32m---> 26\u001b[1;33m     \u001b[0mchoice\u001b[0m \u001b[1;33m=\u001b[0m \u001b[0mint\u001b[0m\u001b[1;33m(\u001b[0m\u001b[0minput\u001b[0m\u001b[1;33m(\u001b[0m\u001b[1;34m'enter here: '\u001b[0m\u001b[1;33m)\u001b[0m\u001b[1;33m)\u001b[0m\u001b[1;33m\u001b[0m\u001b[1;33m\u001b[0m\u001b[0m\n\u001b[0m\u001b[0;32m     27\u001b[0m     \u001b[1;32mif\u001b[0m \u001b[0mchoice\u001b[0m \u001b[1;33m==\u001b[0m \u001b[1;36m1\u001b[0m\u001b[1;33m:\u001b[0m\u001b[1;33m\u001b[0m\u001b[1;33m\u001b[0m\u001b[0m\n\u001b[0;32m     28\u001b[0m         \u001b[0menqueue\u001b[0m\u001b[1;33m(\u001b[0m\u001b[1;33m)\u001b[0m\u001b[1;33m\u001b[0m\u001b[1;33m\u001b[0m\u001b[0m\n",
      "\u001b[1;31mValueError\u001b[0m: invalid literal for int() with base 10: ''"
     ]
    }
   ],
   "source": [
    "queue = []\n",
    "# this method is for adding the melement in queue\n",
    "def enqueue():\n",
    "    element = input('enter element that you want ot append to queue:')\n",
    "    queue.append(element)\n",
    "    print('{} this element is added in queue'.format(element))\n",
    "\n",
    "# this method is for remove element form queue\n",
    "def dequeue():\n",
    "    if not queue:\n",
    "        print('queue is empty')\n",
    "\n",
    "    else:\n",
    "        popped = queue.pop(0)\n",
    "        print('this element is removed from queue : {}'.format(popped))\n",
    "\n",
    "# this method is printing the entire queue\n",
    "\n",
    "def printi():\n",
    "    print('this is you current queue')\n",
    "    print(queue)\n",
    "\n",
    "\n",
    "while True:\n",
    "    print(\"select the operation 1.add 2.remove 3.print 4.quit\")\n",
    "    choice = int(input('enter here: '))\n",
    "    if choice == 1:\n",
    "        enqueue()\n",
    "    elif choice == 2:\n",
    "        dequeue()\n",
    "    elif choice == 3:\n",
    "        printi()\n",
    "    elif choice == 4:\n",
    "        break\n",
    "    else:\n",
    "        print('enter the correct operation')\n"
   ]
  },
  {
   "cell_type": "markdown",
   "metadata": {},
   "source": []
  },
  {
   "cell_type": "markdown",
   "metadata": {},
   "source": [
    "## Implementation using list\n",
    "### List is a Python’s built-in data structure that can be used as a queue. Instead of enqueue() and dequeue(), append() and pop() function is used. However, lists are quite slow for this purpose because inserting or deleting an element at the beginning requires shifting all of the other elements by one, requiring O(n) time."
   ]
  },
  {
   "cell_type": "code",
   "execution_count": 2,
   "metadata": {},
   "outputs": [
    {
     "name": "stdout",
     "output_type": "stream",
     "text": [
      "Initial queue\n",
      "['a', 'b', 'c']\n",
      "\n",
      "Elements dequeued from queue\n",
      "a\n",
      "b\n",
      "c\n",
      "\n",
      "Queue after removing elements\n",
      "[]\n"
     ]
    }
   ],
   "source": [
    "# Python program to\n",
    "# demonstrate queue implementation\n",
    "# using list\n",
    "\n",
    "# Initializing a queue\n",
    "queue = []\n",
    "\n",
    "# Adding elements to the queue\n",
    "queue.append('a')\n",
    "queue.append('b')\n",
    "queue.append('c')\n",
    "\n",
    "print(\"Initial queue\")\n",
    "print(queue)\n",
    "\n",
    "# Removing elements from the queue\n",
    "print(\"\\nElements dequeued from queue\")\n",
    "print(queue.pop(0))\n",
    "print(queue.pop(0))\n",
    "print(queue.pop(0))\n",
    "\n",
    "print(\"\\nQueue after removing elements\")\n",
    "print(queue)\n",
    "\n",
    "# Uncommenting print(queue.pop(0))\n",
    "# will raise and IndexError\n",
    "# as the queue is now empty\n"
   ]
  },
  {
   "cell_type": "markdown",
   "metadata": {},
   "source": [
    "## Implementation using collections.deque\n",
    "### Queue in Python can be implemented using deque class from the collections module. Deque is preferred over list in the cases where we need quicker append and pop operations from both the ends of container, as deque provides an O(1) time complexity for append and pop operations as compared to list which provides O(n) time complexity. Instead of enqueue and deque, append() and popleft() functions are used."
   ]
  },
  {
   "cell_type": "code",
   "execution_count": 3,
   "metadata": {},
   "outputs": [
    {
     "name": "stdout",
     "output_type": "stream",
     "text": [
      "Initial queue\n",
      "deque(['a', 'b', 'c'])\n",
      "\n",
      "Elements dequeued from the queue\n",
      "a\n",
      "b\n",
      "c\n",
      "\n",
      "Queue after removing elements\n",
      "deque([])\n"
     ]
    }
   ],
   "source": [
    "# Python program to\n",
    "# demonstrate queue implementation\n",
    "# using collections.dequeue\n",
    "\n",
    "\n",
    "from collections import deque\n",
    "\n",
    "# Initializing a queue\n",
    "q = deque()\n",
    "\n",
    "# Adding elements to a queue\n",
    "q.append('a')\n",
    "q.append('b')\n",
    "q.append('c')\n",
    "\n",
    "print(\"Initial queue\")\n",
    "print(q)\n",
    "\n",
    "# Removing elements from a queue\n",
    "print(\"\\nElements dequeued from the queue\")\n",
    "print(q.popleft())\n",
    "print(q.popleft())\n",
    "print(q.popleft())\n",
    "\n",
    "print(\"\\nQueue after removing elements\")\n",
    "print(q)\n",
    "\n",
    "# Uncommenting q.popleft()\n",
    "# will raise an IndexError\n",
    "# as queue is now empty\n"
   ]
  },
  {
   "cell_type": "markdown",
   "metadata": {},
   "source": [
    "## Implementation using queue.Queue\n",
    "### Queue is built-in module of Python which is used to implement a queue. queue.Queue(maxsize) initializes a variable to a maximum size of maxsize. A maxsize of zero ‘0’ means a infinite queue. This Queue follows FIFO rule. \n",
    "## There are various functions available in this module: \n",
    " \n",
    "\n",
    "## maxsize – Number of items allowed in the queue.\n",
    "## empty() – Return True if the queue is empty, False otherwise.\n",
    "## full() – Return True if there are maxsize items in the queue. If the queue was initialized with maxsize=0 (the default), then full() never returns True.\n",
    "## get() – Remove and return an item from the queue. If queue is empty, wait until an item is available.\n",
    "## get_nowait() – Return an item if one is immediately available, else raise QueueEmpty.\n",
    "## put(item) – Put an item into the queue. If the queue is full, wait until a free slot is available before adding the item.\n",
    "## put_nowait(item) – Put an item into the queue without blocking. If no free slot is immediately available, raise QueueFull.\n",
    "## qsize() – Return the number of items in the queue."
   ]
  },
  {
   "cell_type": "code",
   "execution_count": 4,
   "metadata": {},
   "outputs": [
    {
     "name": "stdout",
     "output_type": "stream",
     "text": [
      "0\n",
      "\n",
      "Full:  True\n",
      "\n",
      "Elements dequeued from the queue\n",
      "a\n",
      "b\n",
      "c\n",
      "\n",
      "Empty:  True\n",
      "\n",
      "Empty:  False\n",
      "Full:  False\n"
     ]
    }
   ],
   "source": [
    "# Python program to\n",
    "# demonstrate implementation of\n",
    "# queue using queue module\n",
    "\n",
    "\n",
    "from queue import Queue\n",
    "\n",
    "# Initializing a queue\n",
    "q = Queue(maxsize = 3)\n",
    "\n",
    "# qsize() give the maxsize\n",
    "# of the Queue\n",
    "print(q.qsize())\n",
    "\n",
    "# Adding of element to queue\n",
    "q.put('a')\n",
    "q.put('b')\n",
    "q.put('c')\n",
    "\n",
    "# Return Boolean for Full\n",
    "# Queue\n",
    "print(\"\\nFull: \", q.full())\n",
    "\n",
    "# Removing element from queue\n",
    "print(\"\\nElements dequeued from the queue\")\n",
    "print(q.get())\n",
    "print(q.get())\n",
    "print(q.get())\n",
    "\n",
    "# Return Boolean for Empty\n",
    "# Queue\n",
    "print(\"\\nEmpty: \", q.empty())\n",
    "\n",
    "q.put(1)\n",
    "print(\"\\nEmpty: \", q.empty())\n",
    "print(\"Full: \", q.full())\n",
    "\n",
    "# This would result into Infinite\n",
    "# Loop as the Queue is empty.\n",
    "# print(q.get())\n"
   ]
  },
  {
   "cell_type": "code",
   "execution_count": 20,
   "metadata": {},
   "outputs": [
    {
     "name": "stdout",
     "output_type": "stream",
     "text": [
      "this is current size of queue\n",
      "3\n",
      "checking queue is full ?\n",
      "removing the element from queue usibg fifo rule\n",
      "10\n",
      "20\n",
      "again checking the size of queue\n",
      "current size of queue is:\n",
      "lets remove more elements from queue\n",
      "now queue is empty\n"
     ]
    },
    {
     "data": {
      "text/plain": [
       "True"
      ]
     },
     "execution_count": 20,
     "metadata": {},
     "output_type": "execute_result"
    }
   ],
   "source": [
    "from queue import Queue\n",
    "#initializing a queue \n",
    "# capacity of queue is 4\n",
    "queue = Queue(maxsize = 4)\n",
    "queue.put(10)\n",
    "queue.put(20)\n",
    "queue.put(30)\n",
    "\n",
    "# this is now size of your queue\n",
    "print('this is current size of queue')\n",
    "print(queue.qsize())\n",
    "queue.put(40)\n",
    "# now we checking the wether qeueu is full or not\n",
    "print('checking queue is full ?') \n",
    "queue.full()\n",
    "\n",
    "print('removing the element from queue usibg fifo rule')\n",
    "print(queue.get())\n",
    "print(queue.get())\n",
    "\n",
    "print('again checking the size of queue\\ncurrent size of queue is:' )\n",
    "queue.qsize()\n",
    "print('lets remove more elements from queue')\n",
    "queue.get()\n",
    "queue.get()\n",
    "\n",
    "print('now queue is empty')\n",
    "queue.empty()"
   ]
  },
  {
   "cell_type": "code",
   "execution_count": null,
   "metadata": {},
   "outputs": [],
   "source": []
  }
 ],
 "metadata": {
  "kernelspec": {
   "display_name": "Python 3.9.13 ('base')",
   "language": "python",
   "name": "python3"
  },
  "language_info": {
   "codemirror_mode": {
    "name": "ipython",
    "version": 3
   },
   "file_extension": ".py",
   "mimetype": "text/x-python",
   "name": "python",
   "nbconvert_exporter": "python",
   "pygments_lexer": "ipython3",
   "version": "3.9.13"
  },
  "orig_nbformat": 4,
  "vscode": {
   "interpreter": {
    "hash": "606f5dc41d7cf8d5a1554e3ce8b8173f297a1854a463ee4249fe1e80b1719191"
   }
  }
 },
 "nbformat": 4,
 "nbformat_minor": 2
}
